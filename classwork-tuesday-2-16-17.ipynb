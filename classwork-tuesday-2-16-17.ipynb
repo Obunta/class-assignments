{
 "cells": [
  {
   "cell_type": "code",
   "execution_count": null,
   "metadata": {
    "collapsed": true
   },
   "outputs": [],
   "source": [
    "nature_birds = {}\n",
    "ff = open(\"formatted-thomas.csv\", \"r\")\n",
    "ss = ff.readlines()[1:]\n",
    "for line in ss:\n",
    "    sp = line.split(\",\")[0]\n",
    "    fam = line.split(\",\")[2]\n",
    "    nature_birds[sp] = fam\n",
    "ff.close()"
   ]
  }
 ],
 "metadata": {
  "anaconda-cloud": {},
  "kernelspec": {
   "display_name": "Python [default]",
   "language": "python",
   "name": "python3"
  },
  "language_info": {
   "codemirror_mode": {
    "name": "ipython",
    "version": 3
   },
   "file_extension": ".py",
   "mimetype": "text/x-python",
   "name": "python",
   "nbconvert_exporter": "python",
   "pygments_lexer": "ipython3",
   "version": "3.5.2"
  }
 },
 "nbformat": 4,
 "nbformat_minor": 2
}
