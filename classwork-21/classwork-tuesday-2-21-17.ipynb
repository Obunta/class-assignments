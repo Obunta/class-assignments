{
 "cells": [
  {
   "cell_type": "markdown",
   "metadata": {},
   "source": [
    "# Class Notes 2/21/17"
   ]
  },
  {
   "cell_type": "markdown",
   "metadata": {},
   "source": [
    "Each row in cocoli.txt represents a single record for each tree censused. This includes tag number, species code, X and Y coordinates, and several numeric records."
   ]
  },
  {
   "cell_type": "markdown",
   "metadata": {},
   "source": [
    "Each row in cocolisp.txt represents a particular species code with a corresponding genus, species, and family name."
   ]
  },
  {
   "cell_type": "markdown",
   "metadata": {},
   "source": [
    "## Guided exploration of the data"
   ]
  },
  {
   "cell_type": "markdown",
   "metadata": {},
   "source": [
    "The entry in the column mult2 refer to the number of stems after a certain time point.\n",
    "\n",
    "The entry in the column dbh2 refer to the diameter of breat height at second census. The diameter of the biggest stem at a certain time point.\n",
    "\n",
    "To find the genus and species name of this record, we can copy the species code using 'grep' in shell.\n",
    "\n",
    "e.g. 'grep CAL2CA cocolisp.txt' tells us the genus and species name from lecture\n",
    "\n",
    "The genus and species name of this record is:\n",
    "    \n",
    "    CAL2CA\tCalycophyllum\tcandidissimum\tRubiaceae\n"
   ]
  },
  {
   "cell_type": "markdown",
   "metadata": {},
   "source": [
    "Try to make readme files as clear as possible so readers are not lost."
   ]
  },
  {
   "cell_type": "markdown",
   "metadata": {},
   "source": [
    "## Notes"
   ]
  },
  {
   "cell_type": "markdown",
   "metadata": {},
   "source": [
    "Interesting questions that are answerable through the data set is:\n",
    "    \n",
    "    How does stem growth compare between species accross time?\n",
    "    Is there a relationship between life span and the amount of stems a plant has?\n",
    "    \n",
    "    Change in growth over time (two time points: 1998 - 1997, 1997 -1994)\n",
    "    Forests get censused at some regularities, as it turns out, el Nino drought year, really dry year.\n",
    "    1997 data so in context gathered 1998 year.\n",
    "    Did it grow less during dry period?\n",
    "    \n",
    "    Spatially explicit data sets\n",
    "    Is there variation in growth rate across the plot? Closer to water? Geological shift in the soil? envirnmental conditions kept in mind, does plants grow better ion the wetter side vs the drier side of the forest?\n",
    "    \n",
    "    In tropical forest, there is a range of functional strategies. We can ordinate our species and see which ones live ast and die young vs other side of the spectrum.\n",
    "    \n",
    "    Does this species grow at different rates at different sides of the plot?\n",
    "    \n",
    "    \n",
    "We can add increasing levels of complexities using for loops and dictionaries for comparision!"
   ]
  },
  {
   "cell_type": "markdown",
   "metadata": {},
   "source": [
    "Which genus is the most species-rich in this community?\n",
    "    We need to sort the column, use sed command to put txt file in a csv -like format to be read\n",
    "    \n",
    "    sed 's/\\s/,/g' cocolisp.txt | cut -d \",\" -f 2 | sort | uniq -c | sort -n\n",
    "    \n",
    "    sed 's/\\s/,/g' cocolisp.txt | cut -d \",\" -f 2 | sort | uniq -c | sort -n | grep -w \"1\" | wc -l"
   ]
  },
  {
   "cell_type": "markdown",
   "metadata": {},
   "source": [
    "There are 127 genera and 99 just have one species."
   ]
  },
  {
   "cell_type": "markdown",
   "metadata": {},
   "source": [
    "Relative growth rate accounts for additional differences in size.\n",
    "\n",
    "Use python to calc the yearly RGR:"
   ]
  },
  {
   "cell_type": "code",
   "execution_count": null,
   "metadata": {
    "collapsed": true
   },
   "outputs": [],
   "source": [
    "# import file\n",
    "# build an empty dictionary\n",
    "# import file data into dictionary\n",
    "# sort and order the dictionary since the dictionary is unordered\n",
    "# create multiple dictionaries each \n",
    "# calc growth rate from these dictionaries"
   ]
  }
 ],
 "metadata": {
  "anaconda-cloud": {},
  "kernelspec": {
   "display_name": "Python [default]",
   "language": "python",
   "name": "python3"
  },
  "language_info": {
   "codemirror_mode": {
    "name": "ipython",
    "version": 3
   },
   "file_extension": ".py",
   "mimetype": "text/x-python",
   "name": "python",
   "nbconvert_exporter": "python",
   "pygments_lexer": "ipython3",
   "version": "3.5.2"
  }
 },
 "nbformat": 4,
 "nbformat_minor": 2
}
