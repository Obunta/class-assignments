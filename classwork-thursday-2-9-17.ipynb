{
 "cells": [
  {
   "cell_type": "markdown",
   "metadata": {},
   "source": [
    "# Collections Review \n",
    "#### tuples can't be made bigger or smaller once made\n",
    "#### lists most likely to be used in all sorts of cases\n",
    "#### sets are a special kind of tuple; no unique items\n",
    "#### dictionaries are structured with key value pairs\n"
   ]
  },
  {
   "cell_type": "code",
   "execution_count": 8,
   "metadata": {
    "collapsed": true
   },
   "outputs": [],
   "source": [
    "# for\n",
    "apes = [\"Homo\", \"Pan\", \"Gorilla\"]"
   ]
  },
  {
   "cell_type": "code",
   "execution_count": 9,
   "metadata": {
    "collapsed": false
   },
   "outputs": [
    {
     "name": "stdout",
     "output_type": "stream",
     "text": [
      "Homo is an ape\n",
      "Pan is an ape\n",
      "Gorilla is an ape\n"
     ]
    }
   ],
   "source": [
    "for variable in apes: # : sets off the block of code, program will continue\n",
    "    print(variable + \" is an ape\")"
   ]
  },
  {
   "cell_type": "code",
   "execution_count": 12,
   "metadata": {
    "collapsed": false
   },
   "outputs": [
    {
     "data": {
      "text/plain": [
       "'Homo'"
      ]
     },
     "execution_count": 12,
     "metadata": {},
     "output_type": "execute_result"
    }
   ],
   "source": [
    "first_letter = apes[0]\n",
    "print(first_letter)"
   ]
  },
  {
   "cell_type": "code",
   "execution_count": 13,
   "metadata": {
    "collapsed": false
   },
   "outputs": [
    {
     "name": "stdout",
     "output_type": "stream",
     "text": [
      "3\n",
      "4\n",
      "5\n",
      "6\n",
      "7\n"
     ]
    }
   ],
   "source": [
    "for number in range(3, 8):\n",
    "    print(number)"
   ]
  },
  {
   "cell_type": "code",
   "execution_count": 14,
   "metadata": {
    "collapsed": false
   },
   "outputs": [
    {
     "name": "stdout",
     "output_type": "stream",
     "text": [
      "2\n",
      "6\n",
      "10\n"
     ]
    }
   ],
   "source": [
    "# for loops are useful, used commonly\n",
    "# wild loops do something to block of code while condition is true\n",
    "# always have a boolian comparison\n",
    "#as long as true, will sit in code block\n",
    "\n",
    "for number in range(2, 14, 4):\n",
    "    print(number)"
   ]
  },
  {
   "cell_type": "code",
   "execution_count": 15,
   "metadata": {
    "collapsed": true
   },
   "outputs": [],
   "source": [
    "count = 100\n",
    "while count<10:\n",
    "    print(count)\n",
    "    count = count +1\n",
    "    "
   ]
  },
  {
   "cell_type": "code",
   "execution_count": 17,
   "metadata": {
    "collapsed": false
   },
   "outputs": [
    {
     "name": "stdout",
     "output_type": "stream",
     "text": [
      "1\n",
      "2\n",
      "3\n",
      "4\n",
      "5\n",
      "6\n",
      "7\n",
      "8\n",
      "9\n"
     ]
    }
   ],
   "source": [
    "count = 1\n",
    "while count<10:\n",
    "    print(count)\n",
    "    count = count +1\n",
    "# count goes back in\n",
    "# state of variable and condition are compared\n",
    "# hence stuck in the loop\n",
    "# can be infinite so be careful with conditions met\n"
   ]
  },
  {
   "cell_type": "markdown",
   "metadata": {},
   "source": [
    "#### ipython can be done in terminal rather than python notebook\n",
    "#### different python interpreter\n",
    "#### control C to interrupt infinite loop, \"kill\" command in terminal\n",
    "#### to kill in notebook it's a different command\n"
   ]
  },
  {
   "cell_type": "code",
   "execution_count": null,
   "metadata": {
    "collapsed": true
   },
   "outputs": [],
   "source": [
    "#### grab data on evolution of beaks in birds. Figure of shape of beaks for 2000 birds that were CT scanned. Researchers are interested in how beaks have evolved. Grab taxonomic representation from data set. Get data from figure 1.\n",
    "\n",
    "#### used shell command to download the data\n",
    "#### I used wget to download the first data set\n",
    "\n",
    "~~~\n",
    "# saved to class-assignments folder\n",
    "\n",
    "http://www.nature.com/nature/journal/vaop/ncurrent/source_data/nature21074-f1.csv\n",
    "\n",
    "http://www.birds.cornell.edu/clementschecklist/wp-content/uploads/2013/03/eBird_Taxonomy_v2016_9Aug2016.csv\n",
    "\n",
    "~~~\n",
    "\n",
    "# how to look at head of this file\n",
    "# type head in shell\n",
    "# how many lines\n",
    "# wc -l\n",
    "\n",
    "# why read zero lines?\n",
    "# different ways of ending lines\n",
    "# linux expects ending lines to have new line cahracter\n",
    "# end line character in the file are carrot returns\n",
    "# looks like text file, but shell doesn't recognize it as text file\n",
    "# shecll commands don't work as a result\n",
    "\n",
    "# need to change carrot reurn characters as \\n cahracters \n",
    "# tr function\n",
    "# pipe things to tr\n",
    "\n",
    "The text files we downloaded use \\r, a carriage return shows the end of the line\n",
    "\n",
    "1. how many families are in this file?\n",
    "2. which family have the most species represented?\n",
    "3. How many familirs have only a single species in them?\n",
    "4. How many families are present in the eBird data?\n",
    "5. How many species are in each family of the eBird data?\n",
    "\n",
    "\\r --> \\n and put into new file\n",
    "\n",
    "-c counts repeats\n",
    "\n",
    "Partner: "
   ]
  },
  {
   "cell_type": "code",
   "execution_count": null,
   "metadata": {
    "collapsed": true
   },
   "outputs": [],
   "source": []
  }
 ],
 "metadata": {
  "anaconda-cloud": {},
  "kernelspec": {
   "display_name": "Python [default]",
   "language": "python",
   "name": "python3"
  },
  "language_info": {
   "codemirror_mode": {
    "name": "ipython",
    "version": 3
   },
   "file_extension": ".py",
   "mimetype": "text/x-python",
   "name": "python",
   "nbconvert_exporter": "python",
   "pygments_lexer": "ipython3",
   "version": "3.5.2"
  }
 },
 "nbformat": 4,
 "nbformat_minor": 2
}
