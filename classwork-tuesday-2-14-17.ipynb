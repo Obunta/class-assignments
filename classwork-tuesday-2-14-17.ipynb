{
 "cells": [
  {
   "cell_type": "code",
   "execution_count": 8,
   "metadata": {
    "collapsed": false
   },
   "outputs": [
    {
     "data": {
      "text/plain": [
       "'ggtct'"
      ]
     },
     "execution_count": 8,
     "metadata": {},
     "output_type": "execute_result"
    }
   ],
   "source": [
    "seq = \"ATCTTCT\"\n",
    "seq2 = \"GGTCT\"\n",
    "\n",
    "seq.replace(\"A\", \"a\")\n",
    "seq.replace(\"T\", \"t\")\n",
    "\n",
    "seq2 = seq2.replace(\"T\", \"t\")\n",
    "\n",
    "seq.lower()\n",
    "seq2.lower()\n",
    "# when you're writing your code, you'll do actions that are happening over and over again\n",
    "# chunk of code\n",
    "# writing another cell that has exact series of commands but you're changing a variable\n",
    "# sign you're writing a function instead\n",
    "# call function to get what you waht out of it\n",
    "\n",
    "# functions takes arguments\n",
    "# use 'def'\n",
    "# if function doesn't take any arguments, you don't have to fill in ( )\n"
   ]
  },
  {
   "cell_type": "code",
   "execution_count": 9,
   "metadata": {
    "collapsed": true
   },
   "outputs": [],
   "source": [
    "def greeter():\n",
    "    print (\"Welcome!\") # keeps that function in memory"
   ]
  },
  {
   "cell_type": "code",
   "execution_count": 11,
   "metadata": {
    "collapsed": false
   },
   "outputs": [
    {
     "data": {
      "text/plain": [
       "<function __main__.greeter>"
      ]
     },
     "execution_count": 11,
     "metadata": {},
     "output_type": "execute_result"
    }
   ],
   "source": [
    "greeter"
   ]
  },
  {
   "cell_type": "code",
   "execution_count": 12,
   "metadata": {
    "collapsed": false
   },
   "outputs": [
    {
     "name": "stdout",
     "output_type": "stream",
     "text": [
      "Welcome!\n"
     ]
    }
   ],
   "source": [
    "greeter () # needs ( ) # this function doesn't take any arguments"
   ]
  },
  {
   "cell_type": "code",
   "execution_count": 13,
   "metadata": {
    "collapsed": true
   },
   "outputs": [],
   "source": [
    "# once variable is defined, python will let use operate on this\n",
    "# scope of variable\n",
    "\n",
    "def stringAnalyzer(ss): # you can then refer to ss and perform operations on it\n",
    "    length = len(ss)\n",
    "    print(\"This string has {} characters\".format(length))"
   ]
  },
  {
   "cell_type": "code",
   "execution_count": 14,
   "metadata": {
    "collapsed": false
   },
   "outputs": [
    {
     "name": "stdout",
     "output_type": "stream",
     "text": [
      "This string has 7 characters\n"
     ]
    }
   ],
   "source": [
    "stringAnalyzer(seq)"
   ]
  },
  {
   "cell_type": "code",
   "execution_count": 15,
   "metadata": {
    "collapsed": true
   },
   "outputs": [],
   "source": [
    "# you have to define variables within the body of function if you want to perform other kids of operations\n",
    "def stringAnalyzer(ss): \n",
    "    length = len(ss)\n",
    "    yy = 26\n",
    "    zz = yy +length\n",
    "    print(\"This string has {} characters\".format(length))\n",
    "    return zz"
   ]
  },
  {
   "cell_type": "code",
   "execution_count": 30,
   "metadata": {
    "collapsed": false
   },
   "outputs": [
    {
     "name": "stdout",
     "output_type": "stream",
     "text": [
      "This string has 9 characters\n",
      "35\n"
     ]
    }
   ],
   "source": [
    "longer_length = stringAnalyzer(seq)\n",
    "print(longer_length)"
   ]
  },
  {
   "cell_type": "code",
   "execution_count": 36,
   "metadata": {
    "collapsed": true
   },
   "outputs": [],
   "source": [
    "# function counts number of As and Ts given an argument called dna\n",
    "seq = \"ATTCGTTAT\" # seq is a cariable that is defined; not really need rn\n",
    "def get_at_content(dna):\n",
    "    length = len(dna)\n",
    "    a_count = dna.count('A')\n",
    "    t_count = dna.count('T')\n",
    "    at_content = (a_count + t_count) / length\n",
    "    return at_content # return the fraction of As and Ts in seq"
   ]
  },
  {
   "cell_type": "code",
   "execution_count": 32,
   "metadata": {
    "collapsed": false
   },
   "outputs": [
    {
     "name": "stdout",
     "output_type": "stream",
     "text": [
      "0.5294117647058824\n",
      "0.0\n"
     ]
    }
   ],
   "source": [
    "print(get_at_content(\"ATGCATGCAACTGTAGC\"))\n",
    "print(get_at_content(\"aactgtagctagctagcagcgta\")) # problem"
   ]
  },
  {
   "cell_type": "code",
   "execution_count": 28,
   "metadata": {
    "collapsed": false
   },
   "outputs": [],
   "source": [
    "def get_at_content(dna):\n",
    "    length = len(dna) # add upper\n",
    "    a_count = dna.count('A')\n",
    "    t_count = dna.count('T')\n",
    "    at_content = (a_count + t_count) / length"
   ]
  },
  {
   "cell_type": "code",
   "execution_count": 34,
   "metadata": {
    "collapsed": false
   },
   "outputs": [
    {
     "name": "stdout",
     "output_type": "stream",
     "text": [
      "0.5294117647058824\n",
      "0.0\n"
     ]
    }
   ],
   "source": [
    "print(get_at_content(\"ATGCATGCAACTGTAGC\"))\n",
    "print(get_at_content(\"aactgtagctagctagcagcgta\"))"
   ]
  },
  {
   "cell_type": "code",
   "execution_count": null,
   "metadata": {
    "collapsed": true
   },
   "outputs": [],
   "source": [
    "def get_at_content(dna):\n",
    "    length = len(dna) # add upper\n",
    "    a_count = dna.upper('A')\n",
    "    t_count = dna.upper().count('T')\n",
    "    at_content = (a_count + t_count) / length\n",
    "    "
   ]
  },
  {
   "cell_type": "markdown",
   "metadata": {},
   "source": [
    "# in class challenge"
   ]
  },
  {
   "cell_type": "code",
   "execution_count": 38,
   "metadata": {
    "collapsed": false
   },
   "outputs": [
    {
     "name": "stdout",
     "output_type": "stream",
     "text": [
      "A=2\n",
      "T=5\n",
      "C=1\n",
      "G=1\n"
     ]
    }
   ],
   "source": [
    "def baseCounter(dna):\n",
    "    for cc in [\"A\", \"T\", \"C\", \"G\"]: # created list\n",
    "        count = dna.upper().count(cc) # line gets uppercase of seq, then counts cahracters\n",
    "        print(cc + \"=\" + str(count))\n",
    "        \n",
    "baseCounter(seq)"
   ]
  },
  {
   "cell_type": "code",
   "execution_count": 40,
   "metadata": {
    "collapsed": false
   },
   "outputs": [
    {
     "name": "stdout",
     "output_type": "stream",
     "text": [
      "ATTCGTTAT\n"
     ]
    },
    {
     "data": {
      "text/plain": [
       "1"
      ]
     },
     "execution_count": 40,
     "metadata": {},
     "output_type": "execute_result"
    }
   ],
   "source": [
    "def baseCounter(dna):\n",
    "    for cc in [\"A\", \"T\", \"C\", \"G\"]: \n",
    "        count = dna.upper().count(cc)\n",
    "        #print(cc + \"=\" + str(count))\n",
    "    return count\n",
    "\n",
    "print(seq)\n",
    "baseCounter(seq)"
   ]
  },
  {
   "cell_type": "code",
   "execution_count": 43,
   "metadata": {
    "collapsed": false
   },
   "outputs": [],
   "source": [
    "def baseCounter(dna):\n",
    "    baseDict = {} # dictionary; will hold my counts\n",
    "    for cc in [\"A\", \"T\", \"C\", \"G\"]: \n",
    "        count = dna.upper().count(cc)\n",
    "        baseDict[cc] = count\n",
    "        #print(cc + \"=\" + str(count))\n",
    "    return baseDict\n",
    "\n",
    "dd = baseCounter(seq)"
   ]
  },
  {
   "cell_type": "code",
   "execution_count": 44,
   "metadata": {
    "collapsed": false
   },
   "outputs": [
    {
     "data": {
      "text/plain": [
       "dict_keys(['T', 'A', 'G', 'C'])"
      ]
     },
     "execution_count": 44,
     "metadata": {},
     "output_type": "execute_result"
    }
   ],
   "source": [
    "dd.keys()"
   ]
  },
  {
   "cell_type": "code",
   "execution_count": 48,
   "metadata": {
    "collapsed": false
   },
   "outputs": [
    {
     "data": {
      "text/plain": [
       "dict_keys(['T', 'A', 'G', 'C'])"
      ]
     },
     "execution_count": 48,
     "metadata": {},
     "output_type": "execute_result"
    }
   ],
   "source": [
    "# define a function with def\n",
    "# place any arguments this fxn will take with ()\n",
    "# within body of function we can work with what we put in ()\n",
    "# all this stuff is happening in body of fxn\n",
    "# variable passed in above is seq in count\n",
    "# empty container used above is dictionary\n",
    "# dictionary populated with the letters\n",
    "# the loop walks thru the four items in the list\n",
    "# each one, it'll say what is teh count of cc\n",
    "# # reading the seq of dna\n",
    "\n",
    "\n",
    "def baseCounter(dna):\n",
    "    baseDict = {} # dictionary; will hold my counts\n",
    "    for cc in [\"A\", \"T\", \"C\", \"G\"]: \n",
    "        #count = dna.upper().count(cc) one line vs two lines below\n",
    "        upperseq = dna.upper() # changes to uppecase\n",
    "        count = upperseq.count(cc) # string function called on it, count string fxn used\n",
    "        baseDict[cc] = count\n",
    "        #print(cc + \"=\" + str(count))\n",
    "    return baseDict\n",
    "\n",
    "dd = baseCounter(seq)\n",
    "dd.keys()"
   ]
  },
  {
   "cell_type": "code",
   "execution_count": 49,
   "metadata": {
    "collapsed": true
   },
   "outputs": [],
   "source": [
    "# thm, functions are really useful\n",
    "# can do simple and completed operations"
   ]
  },
  {
   "cell_type": "code",
   "execution_count": 50,
   "metadata": {
    "collapsed": true
   },
   "outputs": [],
   "source": [
    "# round function\n",
    "\n",
    "?round"
   ]
  },
  {
   "cell_type": "code",
   "execution_count": 1,
   "metadata": {
    "collapsed": true
   },
   "outputs": [],
   "source": [
    "# return round(at_content, 2)\n",
    "# soemtimes when you're writing code, you like a variable you created in function\n",
    "# because of scope, only recognized within function,\n",
    "# recalling variable outside function results in error\n",
    "# doesn't mean anything outside function\n",
    "\n",
    "seq =\"ATCTTGC\"\n",
    "\n",
    "def get_at_content(dna):\n",
    "    dnalist = []\n",
    "    length = len(dna)\n",
    "    a_count = dna.count('A')\n",
    "    t_count = dna.count('T')\n",
    "    at_content = (a_count + t_count) / length\n",
    "    dnalist.append(length)\n",
    "    dnalist.append(a_count)\n",
    "    dnalist.append(t_count) # appended at the end of list\n",
    "    dnalist.append(at_content)\n",
    "    return dnalist"
   ]
  },
  {
   "cell_type": "code",
   "execution_count": 2,
   "metadata": {
    "collapsed": false
   },
   "outputs": [
    {
     "data": {
      "text/plain": [
       "[7, 1, 3, 0.5714285714285714]"
      ]
     },
     "execution_count": 2,
     "metadata": {},
     "output_type": "execute_result"
    }
   ],
   "source": [
    "get_at_content(seq) # calls teh function, function is calling the list\n",
    "# but not captured"
   ]
  },
  {
   "cell_type": "code",
   "execution_count": 3,
   "metadata": {
    "collapsed": true
   },
   "outputs": [],
   "source": [
    "res = get_at_content(seq)"
   ]
  },
  {
   "cell_type": "code",
   "execution_count": 4,
   "metadata": {
    "collapsed": false
   },
   "outputs": [
    {
     "data": {
      "text/plain": [
       "1"
      ]
     },
     "execution_count": 4,
     "metadata": {},
     "output_type": "execute_result"
    }
   ],
   "source": [
    "res[1] # gives a_count"
   ]
  },
  {
   "cell_type": "code",
   "execution_count": 5,
   "metadata": {
    "collapsed": false
   },
   "outputs": [
    {
     "data": {
      "text/plain": [
       "0.5714285714285714"
      ]
     },
     "execution_count": 5,
     "metadata": {},
     "output_type": "execute_result"
    }
   ],
   "source": [
    "res[3] # item 3"
   ]
  },
  {
   "cell_type": "code",
   "execution_count": 6,
   "metadata": {
    "collapsed": false
   },
   "outputs": [
    {
     "data": {
      "text/plain": [
       "0.5714285714285714"
      ]
     },
     "execution_count": 6,
     "metadata": {},
     "output_type": "execute_result"
    }
   ],
   "source": [
    "res[-1] # last on list, another way"
   ]
  },
  {
   "cell_type": "code",
   "execution_count": 7,
   "metadata": {
    "collapsed": true
   },
   "outputs": [],
   "source": [
    "# can also return the dictionary too, instead of list\n",
    "def get_at_content(dna):\n",
    "    # dnalist = []\n",
    "    length = len(dna)\n",
    "    a_count = dna.count('A')\n",
    "    t_count = dna.count('T')\n",
    "    at_content = (a_count + t_count) / length\n",
    "    dnalist.append(length)\n",
    "    dnalist.append(a_count)\n",
    "    dnalist.append(t_count) # appended at the end of list\n",
    "    dnalist.append(at_content)\n",
    "    dnalist = [length, a_count, t_count, at_content]\n",
    "    # python lets you create and populate on the same line\n",
    "    return dnalist"
   ]
  },
  {
   "cell_type": "code",
   "execution_count": 8,
   "metadata": {
    "collapsed": true
   },
   "outputs": [],
   "source": [
    "# thm: recognize what's no longer available to you once you leave the function"
   ]
  },
  {
   "cell_type": "code",
   "execution_count": 20,
   "metadata": {
    "collapsed": true
   },
   "outputs": [],
   "source": [
    "# functions can take more than one argument\n",
    "\n",
    "def get_at_content(dna, sigfig):\n",
    "    length = len(dna)\n",
    "    a_count = dna.upper().count('A')\n",
    "    t_count = dna.upper().count('T')\n",
    "    at_content = (a_count + t_count) / length\n",
    "    return round(at_content, sigfig)"
   ]
  },
  {
   "cell_type": "code",
   "execution_count": 21,
   "metadata": {
    "collapsed": false
   },
   "outputs": [
    {
     "ename": "TypeError",
     "evalue": "get_at_content() missing 1 required positional argument: 'sigfig'",
     "output_type": "error",
     "traceback": [
      "\u001b[0;31m---------------------------------------------------------------------------\u001b[0m",
      "\u001b[0;31mTypeError\u001b[0m                                 Traceback (most recent call last)",
      "\u001b[0;32m<ipython-input-21-c96da9697eb4>\u001b[0m in \u001b[0;36m<module>\u001b[0;34m()\u001b[0m\n\u001b[0;32m----> 1\u001b[0;31m \u001b[0mget_at_content\u001b[0m\u001b[0;34m(\u001b[0m\u001b[0;34m\"ATGCGCGATCGATCGAATCG\"\u001b[0m\u001b[0;34m)\u001b[0m \u001b[0;31m# won't work, bec need second argument\u001b[0m\u001b[0;34m\u001b[0m\u001b[0m\n\u001b[0m",
      "\u001b[0;31mTypeError\u001b[0m: get_at_content() missing 1 required positional argument: 'sigfig'"
     ]
    }
   ],
   "source": [
    "get_at_content(\"ATGCGCGATCGATCGAATCG\") # won't work, bec need second argument\n"
   ]
  },
  {
   "cell_type": "code",
   "execution_count": 22,
   "metadata": {
    "collapsed": false
   },
   "outputs": [
    {
     "data": {
      "text/plain": [
       "0.45"
      ]
     },
     "execution_count": 22,
     "metadata": {},
     "output_type": "execute_result"
    }
   ],
   "source": [
    "get_at_content(\"ATGCGCGATCGATCGAATCG\",2) # can functions be nested within other functions\n",
    "# yes\n",
    "# at_content"
   ]
  },
  {
   "cell_type": "code",
   "execution_count": null,
   "metadata": {
    "collapsed": true
   },
   "outputs": [],
   "source": []
  }
 ],
 "metadata": {
  "anaconda-cloud": {},
  "kernelspec": {
   "display_name": "Python [default]",
   "language": "python",
   "name": "python3"
  },
  "language_info": {
   "codemirror_mode": {
    "name": "ipython",
    "version": 3
   },
   "file_extension": ".py",
   "mimetype": "text/x-python",
   "name": "python",
   "nbconvert_exporter": "python",
   "pygments_lexer": "ipython3",
   "version": "3.5.2"
  }
 },
 "nbformat": 4,
 "nbformat_minor": 2
}
